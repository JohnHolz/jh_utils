{
 "cells": [
  {
   "cell_type": "code",
   "execution_count": 1,
   "id": "vocational-galaxy",
   "metadata": {},
   "outputs": [],
   "source": [
    "from jh_utils.sql.connection import create_connection"
   ]
  },
  {
   "cell_type": "code",
   "execution_count": 7,
   "id": "close-attitude",
   "metadata": {},
   "outputs": [],
   "source": [
    "import sqlalchemy as sa"
   ]
  },
  {
   "cell_type": "code",
   "execution_count": 4,
   "id": "equal-scanning",
   "metadata": {},
   "outputs": [],
   "source": [
    "host1='192.168.1.151'\n",
    "db='weather'\n",
    "user='weather'\n",
    "password='weather12'\n",
    "port='5432'\n",
    "schema='raw'"
   ]
  },
  {
   "cell_type": "code",
   "execution_count": 6,
   "id": "heavy-rochester",
   "metadata": {},
   "outputs": [],
   "source": [
    "engine = create_connection(database=db,\n",
    "                           host=host1,\n",
    "                           password=password,\n",
    "                           user=user,\n",
    "                           port=port)"
   ]
  },
  {
   "cell_type": "code",
   "execution_count": 9,
   "id": "earned-african",
   "metadata": {},
   "outputs": [],
   "source": [
    "inp = sa.inspect(engine)"
   ]
  },
  {
   "cell_type": "code",
   "execution_count": 10,
   "id": "proud-guess",
   "metadata": {},
   "outputs": [
    {
     "data": {
      "text/plain": [
       "['datasets', 'information_schema', 'metadata', 'public', 'raw']"
      ]
     },
     "execution_count": 10,
     "metadata": {},
     "output_type": "execute_result"
    }
   ],
   "source": [
    "inp.get_schema_names()"
   ]
  },
  {
   "cell_type": "code",
   "execution_count": 11,
   "id": "broke-parent",
   "metadata": {},
   "outputs": [
    {
     "data": {
      "text/plain": [
       "['ES_0', 'ES_1', 'SP_0', 'SP_1', 'MG_0', 'MG_1']"
      ]
     },
     "execution_count": 11,
     "metadata": {},
     "output_type": "execute_result"
    }
   ],
   "source": [
    "inp.get_table_names('datasets')"
   ]
  },
  {
   "cell_type": "code",
   "execution_count": 21,
   "id": "lightweight-cathedral",
   "metadata": {},
   "outputs": [],
   "source": []
  },
  {
   "cell_type": "code",
   "execution_count": null,
   "id": "civil-eight",
   "metadata": {},
   "outputs": [],
   "source": []
  }
 ],
 "metadata": {
  "kernelspec": {
   "display_name": "Python 3",
   "language": "python",
   "name": "python3"
  },
  "language_info": {
   "codemirror_mode": {
    "name": "ipython",
    "version": 3
   },
   "file_extension": ".py",
   "mimetype": "text/x-python",
   "name": "python",
   "nbconvert_exporter": "python",
   "pygments_lexer": "ipython3",
   "version": "3.7.10"
  }
 },
 "nbformat": 4,
 "nbformat_minor": 5
}

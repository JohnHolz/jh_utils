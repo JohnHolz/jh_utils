{
 "cells": [
  {
   "cell_type": "code",
   "execution_count": 1,
   "metadata": {},
   "outputs": [],
   "source": [
    "from utils.timer import timer"
   ]
  },
  {
   "cell_type": "code",
   "execution_count": 17,
   "metadata": {},
   "outputs": [],
   "source": [
    "from datetime import datetime as dt"
   ]
  },
  {
   "cell_type": "code",
   "execution_count": 111,
   "metadata": {},
   "outputs": [],
   "source": [
    "class Timer():    \n",
    "    def __init__(self, start_now = False):\n",
    "        if start_now:\n",
    "            self.start()\n",
    "\n",
    "    def start(self):\n",
    "        if hasattr(x,'start_time'):\n",
    "            print('Started at: {}'.format(self.start_time))\n",
    "        else:\n",
    "            self.start_time = dt.now()\n",
    "    \n",
    "    def stop(self):\n",
    "        if hasattr(x,'stop_time'):\n",
    "            print('Stopped at: {}'.format(self.stop_time))\n",
    "        else:\n",
    "            self.stop_time = dt.now()\n",
    "            self.duration = self.stop_time - self.start_time"
   ]
  },
  {
   "cell_type": "code",
   "execution_count": 75,
   "metadata": {},
   "outputs": [],
   "source": [
    "class Dog():\n",
    "    def __init__(self, name, breed, race):\n",
    "        self.name = name\n",
    "        self.breed = breed\n",
    "        self.race = race"
   ]
  },
  {
   "cell_type": "code",
   "execution_count": 76,
   "metadata": {},
   "outputs": [],
   "source": [
    "x = Dog(\"pedro\",\"casa\",\"chato\")"
   ]
  },
  {
   "cell_type": "code",
   "execution_count": 77,
   "metadata": {},
   "outputs": [
    {
     "data": {
      "text/plain": [
       "'teste'"
      ]
     },
     "execution_count": 77,
     "metadata": {},
     "output_type": "execute_result"
    }
   ],
   "source": [
    "x.xxx"
   ]
  }
 ],
 "metadata": {
  "kernelspec": {
   "display_name": "Python 3",
   "language": "python",
   "name": "python3"
  },
  "language_info": {
   "codemirror_mode": {
    "name": "ipython",
    "version": 3
   },
   "file_extension": ".py",
   "mimetype": "text/x-python",
   "name": "python",
   "nbconvert_exporter": "python",
   "pygments_lexer": "ipython3",
   "version": "3.7.8"
  }
 },
 "nbformat": 4,
 "nbformat_minor": 4
}

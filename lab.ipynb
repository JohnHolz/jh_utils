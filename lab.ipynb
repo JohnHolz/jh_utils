{
 "cells": [
  {
   "cell_type": "code",
   "execution_count": 3,
   "metadata": {},
   "outputs": [],
   "source": [
    "from sqlalchemy import create_engine\n",
    "import psycopg2\n",
    "\n",
    "def create_connection(database: str, user: str, password: str, host: str, port: str, sgbd = 'postgresql'):\n",
    "    \"\"\"\n",
    "    Declare a db connection\n",
    "\n",
    "    Args:\n",
    "        database (str): database name\n",
    "        user (str): user\n",
    "        password (str): password\n",
    "        host (str): host\n",
    "        port (str): port\n",
    "        sgbd (str, optional): Defaults to 'postgresql'. Change the sgbd string in the db connection-string\n",
    "\n",
    "    Returns:\n",
    "        sql alchemy db engine: sql alchemy db engine to use in connections\n",
    "    \"\"\"    \n",
    "\n",
    "    ## Creating db string connection\n",
    "    if sgbd == 'postgresql':\n",
    "        con_string = 'postgresql://'+user+':'+password+'@'+host+':'+port+'/'+database\n",
    "    if sgbd == 'mysql':\n",
    "        con_string = 'mysql+pymysql://'+user+':'+password+'@'+host+':'+port+'/'+database\n",
    "    return create_engine(con_string)"
   ]
  },
  {
   "cell_type": "code",
   "execution_count": null,
   "metadata": {},
   "outputs": [],
   "source": [
    "create_connection()"
   ]
  },
  {
   "cell_type": "code",
   "execution_count": 6,
   "metadata": {},
   "outputs": [
    {
     "ename": "SyntaxError",
     "evalue": "invalid syntax (<ipython-input-6-c6e76283dc8b>, line 1)",
     "output_type": "error",
     "traceback": [
      "\u001b[0;36m  File \u001b[0;32m\"<ipython-input-6-c6e76283dc8b>\"\u001b[0;36m, line \u001b[0;32m1\u001b[0m\n\u001b[0;31m    from jh$-utils\u001b[0m\n\u001b[0m           ^\u001b[0m\n\u001b[0;31mSyntaxError\u001b[0m\u001b[0;31m:\u001b[0m invalid syntax\n"
     ]
    }
   ],
   "source": [
    "\n"
   ]
  },
  {
   "cell_type": "code",
   "execution_count": null,
   "metadata": {},
   "outputs": [],
   "source": []
  }
 ],
 "metadata": {
  "kernelspec": {
   "display_name": "Python 3",
   "language": "python",
   "name": "python3"
  },
  "language_info": {
   "codemirror_mode": {
    "name": "ipython",
    "version": 3
   },
   "file_extension": ".py",
   "mimetype": "text/x-python",
   "name": "python",
   "nbconvert_exporter": "python",
   "pygments_lexer": "ipython3",
   "version": "3.7.8"
  }
 },
 "nbformat": 4,
 "nbformat_minor": 4
}

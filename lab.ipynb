{
 "cells": [
  {
   "cell_type": "code",
   "execution_count": 3,
   "metadata": {},
   "outputs": [],
   "source": [
    "from sqlalchemy import create_engine\n",
    "import psycopg2\n",
    "\n",
    "def create_connection(database: str, user: str, password: str, host: str, port: str, sgbd = 'postgresql'):\n",
    "    \"\"\"\n",
    "    Declare a db connection\n",
    "\n",
    "    Args:\n",
    "        database (str): database name\n",
    "        user (str): user\n",
    "        password (str): password\n",
    "        host (str): host\n",
    "        port (str): port\n",
    "        sgbd (str, optional): Defaults to 'postgresql'. Change the sgbd string in the db connection-string\n",
    "\n",
    "    Returns:\n",
    "        sql alchemy db engine: sql alchemy db engine to use in connections\n",
    "    \"\"\"    \n",
    "\n",
    "    ## Creating db string connection\n",
    "    if sgbd == 'postgresql':\n",
    "        con_string = 'postgresql://'+user+':'+password+'@'+host+':'+port+'/'+database\n",
    "    if sgbd == 'mysql':\n",
    "        con_string = 'mysql+pymysql://'+user+':'+password+'@'+host+':'+port+'/'+database\n",
    "    return create_engine(con_string)"
   ]
  },
  {
   "cell_type": "code",
   "execution_count": null,
   "metadata": {},
   "outputs": [],
   "source": [
    "create_connection()"
   ]
  },
  {
   "cell_type": "code",
   "execution_count": 2,
   "metadata": {},
   "outputs": [
    {
     "ename": "ModuleNotFoundError",
     "evalue": "No module named 'jh_utils'",
     "output_type": "error",
     "traceback": [
      "\u001b[0;31m---------------------------------------------------------------------------\u001b[0m",
      "\u001b[0;31mModuleNotFoundError\u001b[0m                       Traceback (most recent call last)",
      "\u001b[0;32m<ipython-input-2-4625462ff340>\u001b[0m in \u001b[0;36m<module>\u001b[0;34m()\u001b[0m\n\u001b[0;32m----> 1\u001b[0;31m \u001b[0;32mfrom\u001b[0m \u001b[0mjh_utils\u001b[0m\u001b[0;34m.\u001b[0m\u001b[0mutils\u001b[0m\u001b[0;34m.\u001b[0m\u001b[0mtimer\u001b[0m \u001b[0;32mimport\u001b[0m \u001b[0mtimer\u001b[0m\u001b[0;34m\u001b[0m\u001b[0;34m\u001b[0m\u001b[0m\n\u001b[0m",
      "\u001b[0;31mModuleNotFoundError\u001b[0m: No module named 'jh_utils'"
     ]
    }
   ],
   "source": [
    "from jh_utils.utils.timer import timer"
   ]
  },
  {
   "cell_type": "code",
   "execution_count": null,
   "metadata": {},
   "outputs": [],
   "source": []
  }
 ],
 "metadata": {
  "kernelspec": {
   "display_name": "Python 3",
   "language": "python",
   "name": "python3"
  },
  "language_info": {
   "codemirror_mode": {
    "name": "ipython",
    "version": 3
   },
   "file_extension": ".py",
   "mimetype": "text/x-python",
   "name": "python",
   "nbconvert_exporter": "python",
   "pygments_lexer": "ipython3",
   "version": "3.7.8"
  }
 },
 "nbformat": 4,
 "nbformat_minor": 4
}
